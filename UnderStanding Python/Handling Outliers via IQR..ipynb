{
 "cells": [
  {
   "cell_type": "code",
   "execution_count": 4,
   "id": "5387c240",
   "metadata": {},
   "outputs": [],
   "source": [
    "import numpy as np"
   ]
  },
  {
   "cell_type": "code",
   "execution_count": 5,
   "id": "71be819c",
   "metadata": {},
   "outputs": [],
   "source": [
    "list_ = [1,2,3,4,5,6,9,10,12,55,60]"
   ]
  },
  {
   "cell_type": "code",
   "execution_count": 7,
   "id": "d85a8f57",
   "metadata": {},
   "outputs": [],
   "source": [
    "q1 = np.percentile(list_,25)"
   ]
  },
  {
   "cell_type": "code",
   "execution_count": 8,
   "id": "c4d541b2",
   "metadata": {},
   "outputs": [
    {
     "name": "stdout",
     "output_type": "stream",
     "text": [
      "3.5\n"
     ]
    }
   ],
   "source": [
    "print(q1)"
   ]
  },
  {
   "cell_type": "code",
   "execution_count": 9,
   "id": "a1af239c",
   "metadata": {},
   "outputs": [],
   "source": [
    "q3= np.percentile(list_,75)"
   ]
  },
  {
   "cell_type": "code",
   "execution_count": 10,
   "id": "8203b020",
   "metadata": {},
   "outputs": [
    {
     "name": "stdout",
     "output_type": "stream",
     "text": [
      "11.0\n"
     ]
    }
   ],
   "source": [
    "print(q3)"
   ]
  },
  {
   "cell_type": "code",
   "execution_count": 11,
   "id": "394bb4c0",
   "metadata": {},
   "outputs": [
    {
     "name": "stdout",
     "output_type": "stream",
     "text": [
      "7.5\n"
     ]
    }
   ],
   "source": [
    "IQR = q3-q1\n",
    "print(IQR)"
   ]
  },
  {
   "cell_type": "code",
   "execution_count": 12,
   "id": "32958759",
   "metadata": {},
   "outputs": [
    {
     "name": "stdout",
     "output_type": "stream",
     "text": [
      "-7.75\n"
     ]
    }
   ],
   "source": [
    "low = q1 - 1.5*IQR\n",
    "print(low)"
   ]
  },
  {
   "cell_type": "code",
   "execution_count": 13,
   "id": "0007976a",
   "metadata": {},
   "outputs": [],
   "source": [
    "high = q3 + 1.5*IQR"
   ]
  },
  {
   "cell_type": "code",
   "execution_count": 14,
   "id": "9747f7ae",
   "metadata": {},
   "outputs": [
    {
     "name": "stdout",
     "output_type": "stream",
     "text": [
      "22.25\n"
     ]
    }
   ],
   "source": [
    "print(high)"
   ]
  },
  {
   "cell_type": "code",
   "execution_count": 15,
   "id": "ca926cd4",
   "metadata": {},
   "outputs": [],
   "source": [
    "outliers = []\n"
   ]
  },
  {
   "cell_type": "code",
   "execution_count": 16,
   "id": "eb8b7bf2",
   "metadata": {},
   "outputs": [],
   "source": [
    "for i in list_:\n",
    "    if (i>high) or (i<low):\n",
    "        outliers.append(i)"
   ]
  },
  {
   "cell_type": "code",
   "execution_count": 17,
   "id": "cbcbd30e",
   "metadata": {},
   "outputs": [
    {
     "data": {
      "text/plain": [
       "[55, 60]"
      ]
     },
     "execution_count": 17,
     "metadata": {},
     "output_type": "execute_result"
    }
   ],
   "source": [
    "outliers"
   ]
  },
  {
   "cell_type": "code",
   "execution_count": 19,
   "id": "b3cf67da",
   "metadata": {},
   "outputs": [],
   "source": [
    "list_ = [ i for i in list_ if i not in outliers]"
   ]
  },
  {
   "cell_type": "code",
   "execution_count": 20,
   "id": "dae5cc03",
   "metadata": {},
   "outputs": [
    {
     "data": {
      "text/plain": [
       "[1, 2, 3, 4, 5, 6, 9, 10, 12]"
      ]
     },
     "execution_count": 20,
     "metadata": {},
     "output_type": "execute_result"
    }
   ],
   "source": [
    "list_"
   ]
  },
  {
   "cell_type": "code",
   "execution_count": null,
   "id": "b73290a3",
   "metadata": {},
   "outputs": [],
   "source": []
  }
 ],
 "metadata": {
  "kernelspec": {
   "display_name": "Python 3 (ipykernel)",
   "language": "python",
   "name": "python3"
  },
  "language_info": {
   "codemirror_mode": {
    "name": "ipython",
    "version": 3
   },
   "file_extension": ".py",
   "mimetype": "text/x-python",
   "name": "python",
   "nbconvert_exporter": "python",
   "pygments_lexer": "ipython3",
   "version": "3.11.5"
  }
 },
 "nbformat": 4,
 "nbformat_minor": 5
}
