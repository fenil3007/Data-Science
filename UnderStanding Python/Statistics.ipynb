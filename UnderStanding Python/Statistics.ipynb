{
 "cells": [
  {
   "cell_type": "markdown",
   "id": "7cc879ef",
   "metadata": {},
   "source": [
    "# population variance"
   ]
  },
  {
   "cell_type": "code",
   "execution_count": 1,
   "id": "7eb273b2",
   "metadata": {},
   "outputs": [],
   "source": [
    "import numpy as np\n",
    "import pandas as pd"
   ]
  },
  {
   "cell_type": "code",
   "execution_count": 4,
   "id": "d51c166e",
   "metadata": {},
   "outputs": [],
   "source": [
    "population = np.arange(5,50,5)"
   ]
  },
  {
   "cell_type": "code",
   "execution_count": 5,
   "id": "27cb982a",
   "metadata": {},
   "outputs": [
    {
     "name": "stdout",
     "output_type": "stream",
     "text": [
      "[ 5 10 15 20 25 30 35 40 45]\n"
     ]
    }
   ],
   "source": [
    "print(population)"
   ]
  },
  {
   "cell_type": "code",
   "execution_count": 6,
   "id": "30557130",
   "metadata": {},
   "outputs": [],
   "source": [
    "pop_mean = sum(population)/len(population)"
   ]
  },
  {
   "cell_type": "code",
   "execution_count": 7,
   "id": "4c21783e",
   "metadata": {},
   "outputs": [
    {
     "name": "stdout",
     "output_type": "stream",
     "text": [
      "25.0\n"
     ]
    }
   ],
   "source": [
    "print(pop_mean)"
   ]
  },
  {
   "cell_type": "code",
   "execution_count": 8,
   "id": "b178db9a",
   "metadata": {},
   "outputs": [],
   "source": [
    "sq_pop_deviation = [(i-pop_mean)**2 for i in population]"
   ]
  },
  {
   "cell_type": "code",
   "execution_count": 9,
   "id": "77f5cd24",
   "metadata": {},
   "outputs": [
    {
     "data": {
      "text/plain": [
       "[400.0, 225.0, 100.0, 25.0, 0.0, 25.0, 100.0, 225.0, 400.0]"
      ]
     },
     "execution_count": 9,
     "metadata": {},
     "output_type": "execute_result"
    }
   ],
   "source": [
    "sq_pop_deviation"
   ]
  },
  {
   "cell_type": "code",
   "execution_count": 12,
   "id": "b7534005",
   "metadata": {},
   "outputs": [],
   "source": [
    "pop_variance = sum(sq_pop_deviation)/len(population)"
   ]
  },
  {
   "cell_type": "code",
   "execution_count": 13,
   "id": "b546fe01",
   "metadata": {},
   "outputs": [
    {
     "name": "stdout",
     "output_type": "stream",
     "text": [
      "166.66666666666666\n"
     ]
    }
   ],
   "source": [
    "print(pop_variance)"
   ]
  },
  {
   "cell_type": "code",
   "execution_count": 14,
   "id": "e830f148",
   "metadata": {},
   "outputs": [],
   "source": [
    "pop_variance = round(pop_variance,2)"
   ]
  },
  {
   "cell_type": "code",
   "execution_count": 15,
   "id": "769494d9",
   "metadata": {},
   "outputs": [
    {
     "name": "stdout",
     "output_type": "stream",
     "text": [
      "166.67\n"
     ]
    }
   ],
   "source": [
    "print(pop_variance)"
   ]
  },
  {
   "cell_type": "markdown",
   "id": "ee51bc1d",
   "metadata": {},
   "source": [
    "# sample variance\n"
   ]
  },
  {
   "cell_type": "code",
   "execution_count": 16,
   "id": "59133394",
   "metadata": {},
   "outputs": [],
   "source": [
    "sample = np.arange(5,25,5)"
   ]
  },
  {
   "cell_type": "code",
   "execution_count": 17,
   "id": "5d26dbf6",
   "metadata": {},
   "outputs": [
    {
     "name": "stdout",
     "output_type": "stream",
     "text": [
      "[ 5 10 15 20]\n"
     ]
    }
   ],
   "source": [
    "print(sample)"
   ]
  },
  {
   "cell_type": "code",
   "execution_count": 18,
   "id": "5fc23586",
   "metadata": {},
   "outputs": [],
   "source": [
    "sam_mean = sum(sample)/len(sample)"
   ]
  },
  {
   "cell_type": "code",
   "execution_count": 19,
   "id": "4da0faeb",
   "metadata": {},
   "outputs": [
    {
     "name": "stdout",
     "output_type": "stream",
     "text": [
      "12.5\n"
     ]
    }
   ],
   "source": [
    "print(sam_mean)"
   ]
  },
  {
   "cell_type": "code",
   "execution_count": 20,
   "id": "ede7ab03",
   "metadata": {},
   "outputs": [],
   "source": [
    "sq_sam_deviation = [(i-sam_mean)**2 for i in sample]"
   ]
  },
  {
   "cell_type": "code",
   "execution_count": 21,
   "id": "300439a6",
   "metadata": {},
   "outputs": [
    {
     "name": "stdout",
     "output_type": "stream",
     "text": [
      "[56.25, 6.25, 6.25, 56.25]\n"
     ]
    }
   ],
   "source": [
    "print(sq_sam_deviation)"
   ]
  },
  {
   "cell_type": "code",
   "execution_count": 22,
   "id": "955cfa13",
   "metadata": {},
   "outputs": [],
   "source": [
    "sam_variance = sum(sq_sam_deviation)/(len(sample)-1)"
   ]
  },
  {
   "cell_type": "code",
   "execution_count": 23,
   "id": "99d284f6",
   "metadata": {},
   "outputs": [
    {
     "name": "stdout",
     "output_type": "stream",
     "text": [
      "41.666666666666664\n"
     ]
    }
   ],
   "source": [
    "print(sam_variance)"
   ]
  },
  {
   "cell_type": "code",
   "execution_count": 24,
   "id": "24717084",
   "metadata": {},
   "outputs": [],
   "source": [
    "sam_variance = round(sam_variance,2)"
   ]
  },
  {
   "cell_type": "code",
   "execution_count": 25,
   "id": "194664ff",
   "metadata": {},
   "outputs": [
    {
     "name": "stdout",
     "output_type": "stream",
     "text": [
      "41.67\n"
     ]
    }
   ],
   "source": [
    "print(sam_variance)"
   ]
  },
  {
   "cell_type": "code",
   "execution_count": 26,
   "id": "0fe73d5b",
   "metadata": {},
   "outputs": [],
   "source": [
    "import math\n"
   ]
  },
  {
   "cell_type": "code",
   "execution_count": 27,
   "id": "9ca7275a",
   "metadata": {},
   "outputs": [],
   "source": [
    "std_dev = math.sqrt(pop_variance)"
   ]
  },
  {
   "cell_type": "code",
   "execution_count": 29,
   "id": "c0203746",
   "metadata": {},
   "outputs": [
    {
     "name": "stdout",
     "output_type": "stream",
     "text": [
      "12.91\n"
     ]
    }
   ],
   "source": [
    "print(round(std_dev,2))"
   ]
  },
  {
   "cell_type": "code",
   "execution_count": null,
   "id": "c4f3e193",
   "metadata": {},
   "outputs": [],
   "source": []
  }
 ],
 "metadata": {
  "kernelspec": {
   "display_name": "Python 3 (ipykernel)",
   "language": "python",
   "name": "python3"
  },
  "language_info": {
   "codemirror_mode": {
    "name": "ipython",
    "version": 3
   },
   "file_extension": ".py",
   "mimetype": "text/x-python",
   "name": "python",
   "nbconvert_exporter": "python",
   "pygments_lexer": "ipython3",
   "version": "3.11.5"
  }
 },
 "nbformat": 4,
 "nbformat_minor": 5
}
