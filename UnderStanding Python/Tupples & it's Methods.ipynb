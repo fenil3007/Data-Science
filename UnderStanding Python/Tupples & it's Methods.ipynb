{
 "cells": [
  {
   "cell_type": "code",
   "execution_count": 1,
   "id": "d0fbf2eb",
   "metadata": {},
   "outputs": [
    {
     "name": "stdout",
     "output_type": "stream",
     "text": [
      "('apple', 'chickoo', 'Banana', 'cherry')\n"
     ]
    }
   ],
   "source": [
    "fruits = (\"apple\",\"chickoo\",\"Banana\",\"cherry\")\n",
    "print(fruits)"
   ]
  },
  {
   "cell_type": "code",
   "execution_count": 2,
   "id": "614ad15a",
   "metadata": {},
   "outputs": [
    {
     "name": "stdout",
     "output_type": "stream",
     "text": [
      "('apple', 'banana', 'cherry', 'banana')\n"
     ]
    }
   ],
   "source": [
    "fruits = (\"apple\",\"banana\",\"cherry\",\"banana\")\n",
    "print(fruits)"
   ]
  },
  {
   "cell_type": "markdown",
   "id": "0b431ff2",
   "metadata": {},
   "source": [
    "# count method"
   ]
  },
  {
   "cell_type": "code",
   "execution_count": 5,
   "id": "8632d10f",
   "metadata": {},
   "outputs": [
    {
     "data": {
      "text/plain": [
       "2"
      ]
     },
     "execution_count": 5,
     "metadata": {},
     "output_type": "execute_result"
    }
   ],
   "source": [
    "nums = (1,2,3,4,5,6,7,8,9,0,1,2,3,4,5,6,7,8,9,0)\n",
    "nums.count(0)"
   ]
  },
  {
   "cell_type": "code",
   "execution_count": 6,
   "id": "185131a7",
   "metadata": {},
   "outputs": [
    {
     "data": {
      "text/plain": [
       "4"
      ]
     },
     "execution_count": 6,
     "metadata": {},
     "output_type": "execute_result"
    }
   ],
   "source": [
    "nums.index(5)"
   ]
  },
  {
   "cell_type": "code",
   "execution_count": 7,
   "id": "87624f57",
   "metadata": {},
   "outputs": [
    {
     "data": {
      "text/plain": [
       "0"
      ]
     },
     "execution_count": 7,
     "metadata": {},
     "output_type": "execute_result"
    }
   ],
   "source": [
    "min(nums)"
   ]
  },
  {
   "cell_type": "code",
   "execution_count": 9,
   "id": "85c8f696",
   "metadata": {},
   "outputs": [
    {
     "data": {
      "text/plain": [
       "'apple'"
      ]
     },
     "execution_count": 9,
     "metadata": {},
     "output_type": "execute_result"
    }
   ],
   "source": [
    "min(fruits)"
   ]
  },
  {
   "cell_type": "code",
   "execution_count": 12,
   "id": "8a382ae5",
   "metadata": {},
   "outputs": [],
   "source": [
    "mix = (\"maths\",\"A\",1,3)"
   ]
  },
  {
   "cell_type": "code",
   "execution_count": 13,
   "id": "ee4ee5fe",
   "metadata": {},
   "outputs": [
    {
     "ename": "TypeError",
     "evalue": "'<' not supported between instances of 'int' and 'str'",
     "output_type": "error",
     "traceback": [
      "\u001b[1;31m---------------------------------------------------------------------------\u001b[0m",
      "\u001b[1;31mTypeError\u001b[0m                                 Traceback (most recent call last)",
      "Cell \u001b[1;32mIn[13], line 1\u001b[0m\n\u001b[1;32m----> 1\u001b[0m \u001b[38;5;28mmin\u001b[39m(mix)\n",
      "\u001b[1;31mTypeError\u001b[0m: '<' not supported between instances of 'int' and 'str'"
     ]
    }
   ],
   "source": [
    "min(mix)"
   ]
  },
  {
   "cell_type": "code",
   "execution_count": null,
   "id": "57115d0d",
   "metadata": {},
   "outputs": [],
   "source": []
  }
 ],
 "metadata": {
  "kernelspec": {
   "display_name": "Python 3 (ipykernel)",
   "language": "python",
   "name": "python3"
  },
  "language_info": {
   "codemirror_mode": {
    "name": "ipython",
    "version": 3
   },
   "file_extension": ".py",
   "mimetype": "text/x-python",
   "name": "python",
   "nbconvert_exporter": "python",
   "pygments_lexer": "ipython3",
   "version": "3.11.5"
  }
 },
 "nbformat": 4,
 "nbformat_minor": 5
}
