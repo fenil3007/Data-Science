{
 "cells": [
  {
   "cell_type": "code",
   "execution_count": 10,
   "id": "63ba769a",
   "metadata": {},
   "outputs": [],
   "source": [
    "import pandas as pd\n",
    "import numpy as np\n",
    "import matplotlib.pyplot as plt\n",
    "import seaborn as sns\n"
   ]
  },
  {
   "cell_type": "code",
   "execution_count": 3,
   "id": "1ef559ca",
   "metadata": {},
   "outputs": [],
   "source": [
    "df1 = pd.read_excel(\"Basic Info.xlsx\")"
   ]
  },
  {
   "cell_type": "code",
   "execution_count": 5,
   "id": "1a4523c1",
   "metadata": {},
   "outputs": [],
   "source": [
    "df2 = pd.read_excel(\"Breakthrough Info.xlsx\")"
   ]
  },
  {
   "cell_type": "code",
   "execution_count": 6,
   "id": "1dd2813c",
   "metadata": {},
   "outputs": [],
   "source": [
    "df3 = pd.read_excel(\"Last Work Info.xlsx\")"
   ]
  },
  {
   "cell_type": "code",
   "execution_count": 7,
   "id": "f2e4bd66",
   "metadata": {},
   "outputs": [
    {
     "name": "stdout",
     "output_type": "stream",
     "text": [
      "        Entertainer Gender (traditional)  Birth Year\n",
      "0             Adele                    F        1988\n",
      "1    Angelina Jolie                    F        1975\n",
      "2   Aretha Franklin                    F        1942\n",
      "3       Bette Davis                    F        1908\n",
      "4       Betty White                    F        1922\n",
      "..              ...                  ...         ...\n",
      "65        Tom Hanks                    M        1956\n",
      "66     Tony Bennett                    M        1926\n",
      "67     Wayne Newton                    M        1942\n",
      "68       Will Smith                    M        1968\n",
      "69    Willie Nelson                    M        1933\n",
      "\n",
      "[70 rows x 3 columns]\n"
     ]
    }
   ],
   "source": [
    "print(df1)"
   ]
  },
  {
   "cell_type": "code",
   "execution_count": 8,
   "id": "5171f39d",
   "metadata": {},
   "outputs": [
    {
     "name": "stdout",
     "output_type": "stream",
     "text": [
      "        Entertainer  Year of Breakthrough/#1 Hit/Award Nomination  \\\n",
      "0             Adele                                          2008   \n",
      "1    Angelina Jolie                                          1999   \n",
      "2   Aretha Franklin                                          1967   \n",
      "3       Bette Davis                                          1934   \n",
      "4       Betty White                                          1952   \n",
      "..              ...                                           ...   \n",
      "65        Tom Hanks                                          1984   \n",
      "66     Tony Bennett                                          1951   \n",
      "67     Wayne Newton                                          1972   \n",
      "68       Will Smith                                          1990   \n",
      "69    Willie Nelson                                          1975   \n",
      "\n",
      "                           Breakthrough Name  Year of First Oscar/Grammy/Emmy  \n",
      "0                                         19                           2009.0  \n",
      "1                          Girl, Interrupted                           1999.0  \n",
      "2   I Never Loved a Man (The Way I Love You)                           1968.0  \n",
      "3                           Of Human Bondage                           1935.0  \n",
      "4                       Life with Elilzabeth                           1976.0  \n",
      "..                                       ...                              ...  \n",
      "65                                    Splash                           1993.0  \n",
      "66                            Because of You                           1963.0  \n",
      "67             Daddy, Don't You Walk So Fast                              NaN  \n",
      "68               The Fresh Prince of Bel-Air                           1988.0  \n",
      "69                       Red Headed Stranger                           1976.0  \n",
      "\n",
      "[70 rows x 4 columns]\n"
     ]
    }
   ],
   "source": [
    "print(df2)"
   ]
  },
  {
   "cell_type": "code",
   "execution_count": 9,
   "id": "a94f52cc",
   "metadata": {},
   "outputs": [
    {
     "name": "stdout",
     "output_type": "stream",
     "text": [
      "        Entertainer  Year of Last Major Work (arguable)  Year of Death\n",
      "0             Adele                                2016            NaN\n",
      "1    Angelina Jolie                                2016            NaN\n",
      "2   Aretha Franklin                                2014            NaN\n",
      "3       Bette Davis                                1989         1989.0\n",
      "4       Betty White                                2016            NaN\n",
      "..              ...                                 ...            ...\n",
      "65        Tom Hanks                                2016            NaN\n",
      "66     Tony Bennett                                2016            NaN\n",
      "67     Wayne Newton                                2016            NaN\n",
      "68       Will Smith                                2016            NaN\n",
      "69    Willie Nelson                                2016            NaN\n",
      "\n",
      "[70 rows x 3 columns]\n"
     ]
    }
   ],
   "source": [
    "print(df3)"
   ]
  },
  {
   "cell_type": "code",
   "execution_count": 21,
   "id": "1dab7d79",
   "metadata": {
    "scrolled": true
   },
   "outputs": [
    {
     "data": {
      "image/png": "[encoded data removed]",
      "text/plain": [
       "<Figure size 640x480 with 1 Axes>"
      ]
     },
     "metadata": {},
     "output_type": "display_data"
    }
   ],
   "source": [
    "x = df1['Birth Year']\n",
    "y = df3['Year of Last Major Work (arguable)']\n",
    "plt.bar(x,y)\n",
    "plt.xlabel(\"Birth year\")\n",
    "plt.ylabel(\"last major work\")\n",
    "plt.show()"
   ]
  },
  {
   "cell_type": "code",
   "execution_count": null,
   "id": "60d53c17",
   "metadata": {},
   "outputs": [],
   "source": []
  }
 ],
 "metadata": {
  "kernelspec": {
   "display_name": "Python 3 (ipykernel)",
   "language": "python",
   "name": "python3"
  },
  "language_info": {
   "codemirror_mode": {
    "name": "ipython",
    "version": 3
   },
   "file_extension": ".py",
   "mimetype": "text/x-python",
   "name": "python",
   "nbconvert_exporter": "python",
   "pygments_lexer": "ipython3",
   "version": "3.11.5"
  }
 },
 "nbformat": 4,
 "nbformat_minor": 5
}
