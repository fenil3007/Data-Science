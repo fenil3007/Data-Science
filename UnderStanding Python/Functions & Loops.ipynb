{
 "cells": [
  {
   "cell_type": "code",
   "execution_count": 1,
   "id": "36e32418",
   "metadata": {},
   "outputs": [
    {
     "name": "stdout",
     "output_type": "stream",
     "text": [
      "apple\n",
      "chickoo\n",
      "Banana\n",
      "pineapple\n"
     ]
    }
   ],
   "source": [
    "fruits = [\"apple\",\"chickoo\",\"Banana\",'pineapple']\n",
    "\n",
    "for i in fruits:\n",
    "    print(i)"
   ]
  },
  {
   "cell_type": "code",
   "execution_count": 2,
   "id": "34d9befc",
   "metadata": {},
   "outputs": [
    {
     "name": "stdout",
     "output_type": "stream",
     "text": [
      "apple\n",
      "chickoo\n",
      "Banana\n"
     ]
    }
   ],
   "source": [
    "for i in fruits:\n",
    "    print(i)\n",
    "    if i == \"Banana\":\n",
    "        break"
   ]
  },
  {
   "cell_type": "code",
   "execution_count": 3,
   "id": "b4ecaa65",
   "metadata": {},
   "outputs": [
    {
     "name": "stdout",
     "output_type": "stream",
     "text": [
      "apple\n",
      "Banana\n",
      "pineapple\n"
     ]
    }
   ],
   "source": [
    "for i in fruits:\n",
    "    if i ==\"chickoo\":\n",
    "        continue\n",
    "        \n",
    "    print(i)"
   ]
  },
  {
   "cell_type": "code",
   "execution_count": null,
   "id": "c3c89131",
   "metadata": {},
   "outputs": [],
   "source": [
    "\n",
    "    "
   ]
  },
  {
   "cell_type": "code",
   "execution_count": 1,
   "id": "57c8d67f",
   "metadata": {},
   "outputs": [
    {
     "name": "stdout",
     "output_type": "stream",
     "text": [
      "1\n",
      "2\n",
      "3\n",
      "4\n",
      "5\n",
      "6\n",
      "8\n",
      "9\n",
      "10\n"
     ]
    }
   ],
   "source": [
    "num = 0\n",
    "\n",
    "while(num<10):\n",
    "    num+=1\n",
    "    if num==7:\n",
    "         continue\n",
    "    print(num)\n"
   ]
  },
  {
   "cell_type": "markdown",
   "id": "0d902e3c",
   "metadata": {},
   "source": [
    "## functions"
   ]
  },
  {
   "cell_type": "code",
   "execution_count": 2,
   "id": "eba47139",
   "metadata": {},
   "outputs": [
    {
     "name": "stdout",
     "output_type": "stream",
     "text": [
      "this is my function:\n"
     ]
    }
   ],
   "source": [
    "def my_fun():\n",
    "    print(\"this is my function:\")\n",
    "my_fun()"
   ]
  },
  {
   "cell_type": "code",
   "execution_count": 5,
   "id": "70ae3614",
   "metadata": {},
   "outputs": [
    {
     "name": "stdout",
     "output_type": "stream",
     "text": [
      "1001  fenil\n"
     ]
    }
   ],
   "source": [
    "def my_ID(name):\n",
    "    print(\"1001  \"+name)\n",
    "my_ID(\"fenil\")"
   ]
  },
  {
   "cell_type": "code",
   "execution_count": 6,
   "id": "cfdde09e",
   "metadata": {},
   "outputs": [
    {
     "data": {
      "text/plain": [
       "35"
      ]
     },
     "execution_count": 6,
     "metadata": {},
     "output_type": "execute_result"
    }
   ],
   "source": [
    "def add(a,b,c,d,e):\n",
    "    return a+b+c+d+e\n",
    "add(5,6,7,8,9)"
   ]
  },
  {
   "cell_type": "markdown",
   "id": "e3e1452b",
   "metadata": {},
   "source": [
    "# using lambda expression"
   ]
  },
  {
   "cell_type": "code",
   "execution_count": 7,
   "id": "a99768ea",
   "metadata": {},
   "outputs": [
    {
     "name": "stdout",
     "output_type": "stream",
     "text": [
      "15\n"
     ]
    }
   ],
   "source": [
    "add = lambda a,b,c,d,e : print(a+b+c+d+e)\n",
    "add(1,2,3,4,5)"
   ]
  },
  {
   "cell_type": "code",
   "execution_count": 15,
   "id": "dab80799",
   "metadata": {},
   "outputs": [
    {
     "name": "stdout",
     "output_type": "stream",
     "text": [
      "[1, 4, 9, 16, 25]\n"
     ]
    }
   ],
   "source": [
    "nums = [1,2,3,4,5]\n",
    "\n",
    "def sqr(n):\n",
    "    return n*n\n",
    "square = map(sqr, nums)\n",
    "print(list(square))"
   ]
  },
  {
   "cell_type": "markdown",
   "id": "9a3f6191",
   "metadata": {},
   "source": [
    "# zip function"
   ]
  },
  {
   "cell_type": "code",
   "execution_count": 16,
   "id": "b48bb24a",
   "metadata": {},
   "outputs": [
    {
     "name": "stdout",
     "output_type": "stream",
     "text": [
      "[('manjeet', 4), ('nikhil', 1), ('shambhavi', 3)]\n"
     ]
    }
   ],
   "source": [
    "name = [\"manjeet\",'nikhil','shambhavi']\n",
    "ID = [4,1,3]\n",
    "\n",
    "mapped = zip(name, ID)\n",
    "print(list(mapped))"
   ]
  },
  {
   "cell_type": "code",
   "execution_count": null,
   "id": "03be6368",
   "metadata": {},
   "outputs": [],
   "source": []
  }
 ],
 "metadata": {
  "kernelspec": {
   "display_name": "Python 3 (ipykernel)",
   "language": "python",
   "name": "python3"
  },
  "language_info": {
   "codemirror_mode": {
    "name": "ipython",
    "version": 3
   },
   "file_extension": ".py",
   "mimetype": "text/x-python",
   "name": "python",
   "nbconvert_exporter": "python",
   "pygments_lexer": "ipython3",
   "version": "3.11.5"
  }
 },
 "nbformat": 4,
 "nbformat_minor": 5
}
